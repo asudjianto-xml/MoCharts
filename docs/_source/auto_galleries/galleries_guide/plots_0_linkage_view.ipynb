{
  "cells": [
    {
      "cell_type": "markdown",
      "metadata": {},
      "source": [
        "\n# Linkage View\n\nMocharts supports linked views for multiple charts. In this example, we demonstrate how manipulating one chart can control the display of another related chart.\n"
      ]
    },
    {
      "cell_type": "markdown",
      "metadata": {},
      "source": [
        "Installation\n\n"
      ]
    },
    {
      "cell_type": "code",
      "execution_count": null,
      "metadata": {
        "collapsed": false
      },
      "outputs": [],
      "source": [
        "# To install the required package, use the following command:\n# !pip install mocharts"
      ]
    },
    {
      "cell_type": "markdown",
      "metadata": {},
      "source": [
        "Get Iris dataset\n\n"
      ]
    },
    {
      "cell_type": "code",
      "execution_count": null,
      "metadata": {
        "collapsed": false
      },
      "outputs": [],
      "source": [
        "from sklearn.datasets import load_iris\nimport numpy as np\nimport pandas as pd\ndata = load_iris()\ntarget = np.array([data['target_names'][int(i)] for i in data['target']]).reshape(-1,1)\ndf = pd.DataFrame(np.concatenate([data['data'], target.astype(object)], axis=1), columns=data['feature_names']+['Species'])\nfor feature in data['feature_names']:\n    df[feature] = df[feature].astype(float)"
      ]
    },
    {
      "cell_type": "markdown",
      "metadata": {},
      "source": [
        "View the mean value of samples in selected category\n\n"
      ]
    },
    {
      "cell_type": "code",
      "execution_count": null,
      "metadata": {
        "collapsed": false
      },
      "outputs": [],
      "source": [
        "import mocharts as mc\nfrom IPython.display import HTML\n\ndef func1(js_input, py_input):  # for use by card2\n    idx = js_input['selected']\n    fig2 = mc.histplot(x=df.iloc[:, 0][df.Species == idx].values, bins=8)\n    fig2.chart_id = py_input['link_id']\n    fig2.set_title(f\"Histogram of species {idx}\")\n    fig2.set_tooltip(precision=4)\n    fig2.set_figsize(figsize=(5, 5))\n    fig2.set_yaxis(axis_name='Count')\n    fig2.set_xaxis(axis_name=df.columns[0])\n    return fig2.show(return_html=True, silent=True)\n\ntmp = df.Species.value_counts()\nfig = mc.barplot(x=list(tmp.index.astype(str)), y=tmp.values, sorted_x=True)\nfig.set_event(type_='click', func=func1, link_id='card2')    # Link to ChartID = card2, \nfig.set_yaxis(axis_name='Count', nameGap=20)\nfig.set_xaxis(axis_name='Species')\nfig.set_figsize((4, 4))\nfig.set_title('Histogram of species')\nhtml1 = fig.show(return_html=True, silent=True)\n\nfig2 = mc.histplot(x=df.iloc[:,0].values, bins=8)\nfig2.chart_id = 'card2'\nfig2.set_title(\"Histogram\")\nfig2.set_tooltip(precision=4)\nfig2.set_figsize(figsize=(4, 4))\nfig2.set_yaxis(axis_name='Count')\nfig2.set_xaxis(axis_name=df.columns[0])\nhtml2 = fig2.show(return_html=True, silent=True)\n\nhtml_content = f\"\"\"\n<div style=\"display: flex; justify-content: space-around;\">\n    <div><p>{html1}</p></div>\n    <div><p>{html2}</p></div>\n</div>\n\"\"\"\n\nHTML(html_content)"
      ]
    },
    {
      "cell_type": "markdown",
      "metadata": {},
      "source": [
        "View density plot of seleted samples\n\n"
      ]
    },
    {
      "cell_type": "code",
      "execution_count": null,
      "metadata": {
        "collapsed": false
      },
      "outputs": [],
      "source": [
        "def func1(js_input, py_input):  # for use by card2\n    selected = js_input['selected']\n    if len(selected) != 0:\n        link_id = py_input['link_id']\n        data_selected = df.iloc[selected, list(df.columns).index('Species')]\n        tmp = data_selected.value_counts()\n        fig = mc.barplot(list(tmp.index), tmp.values)\n        fig.link_id = link_id\n        fig.set_xaxis(axis_name='Species')\n        fig.set_tooltip(precision=4)\n        fig.set_title('Species of selected samples')\n        fig.set_figsize(figsize=(4,4))\n        return fig.show(silent=True, return_html=True)\n\nsca1 = mc.scatterplot(x=df['sepal length (cm)'], y=df['sepal width (cm)'], allow_large=False)\nsca1.set_xaxis(axis_name='sepal length (cm)')\nsca1.set_yaxis(axis_name='sepal width (cm)')\nsca1.set_event(type_='brushselected', func=func1, link_id='related_counts')\nsca1.set_brush(toolbox=['rect', 'polygon', 'keep', 'clear'])\nsca1.set_title('Scatter for samples selection')\nsca1.set_figsize((4, 4))\nhtml3 = sca1.show(return_html=True, silent=True)\n\ntmp = df['Species'].value_counts()\nfig = mc.barplot(list(tmp.index), tmp.values)\nfig.chart_id='related_counts'\nfig.set_figsize(figsize=(4,4))\nfig.set_xaxis(axis_name='Species')\nfig.set_tooltip(precision=4)\nfig.set_title('Species of selected samples')\nhtml4 = fig.show(return_html=True, silent=True)\n\nhtml_content2 = f\"\"\"\n<div style=\"display: flex; justify-content: space-around;\">\n    <div><p>{html3}</p></div>\n    <div><p>{html4}</p></div>\n</div>\n\"\"\"\n\nHTML(html_content2)"
      ]
    }
  ],
  "metadata": {
    "kernelspec": {
      "display_name": "Python 3",
      "language": "python",
      "name": "python3"
    },
    "language_info": {
      "codemirror_mode": {
        "name": "ipython",
        "version": 3
      },
      "file_extension": ".py",
      "mimetype": "text/x-python",
      "name": "python",
      "nbconvert_exporter": "python",
      "pygments_lexer": "ipython3",
      "version": "3.11.0"
    }
  },
  "nbformat": 4,
  "nbformat_minor": 0
}