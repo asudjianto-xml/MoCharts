{
  "cells": [
    {
      "cell_type": "markdown",
      "metadata": {},
      "source": [
        "\n# Other Plot\n"
      ]
    },
    {
      "cell_type": "markdown",
      "metadata": {},
      "source": [
        "Installation\n\n"
      ]
    },
    {
      "cell_type": "code",
      "execution_count": null,
      "metadata": {
        "collapsed": false
      },
      "outputs": [],
      "source": [
        "# To install the required package, use the following command:\n# !pip install mocharts"
      ]
    },
    {
      "cell_type": "markdown",
      "metadata": {},
      "source": [
        "Bar Stem Plot\n\n"
      ]
    },
    {
      "cell_type": "code",
      "execution_count": null,
      "metadata": {
        "collapsed": false
      },
      "outputs": [],
      "source": [
        "import mocharts as mc\nfrom IPython.display import HTML\n\nx = ['a', 'b', 'c', 'd', 'e']\ny = [0.1, 0.3, 0.2, -0.4, -0.5]\nbarstem = mc.barstemplot(x=x[::-1], y=y[::-1], stem_value=[-0.6, 0.2, 0, -0.1, 0.1], symmetric=True, value=[0.22, 0.33, 0.44, 0.55, 0.66])\nbarstem.set_xaxis(axis_name='x')\nbarstem.set_title('Bar Stem Plot')\n# barstem.show()\nHTML(barstem.show(return_html=True, silent=True))"
      ]
    },
    {
      "cell_type": "markdown",
      "metadata": {},
      "source": [
        "Tree Plot\n\n"
      ]
    },
    {
      "cell_type": "code",
      "execution_count": null,
      "metadata": {
        "collapsed": false
      },
      "outputs": [],
      "source": [
        "tree_diagram = {'name': 'parant', 'children':[\n                    {'name': 'children1'},\n                    {'name': 'children2', 'children':[\n                        {'name': 'children3'},\n                        {'name': 'children4'}\n                    ]}] }\ntree = mc.treeplot(tree_diagram)\n# tree.show()\nHTML(tree.show(return_html=True, silent=True))"
      ]
    },
    {
      "cell_type": "markdown",
      "metadata": {},
      "source": [
        "Network Plot\n\n"
      ]
    },
    {
      "cell_type": "code",
      "execution_count": null,
      "metadata": {
        "collapsed": false
      },
      "outputs": [],
      "source": [
        "import itertools\nimport networkx as nx\n\nsubset_sizes = [5, 4, 3, 2, 4, 3]\n\ndef multilayered_graph(*subset_sizes):\n    extents = nx.utils.pairwise(itertools.accumulate((0,) + subset_sizes))\n    layers = [range(start, end) for start, end in extents]\n    G = nx.Graph()\n    for (i, layer) in enumerate(layers):\n        G.add_nodes_from(layer, layer=i)\n    for layer1, layer2 in nx.utils.pairwise(layers):\n        G.add_edges_from(itertools.product(layer1, layer2))\n    return G\n\nG = multilayered_graph(*subset_sizes)\npos = nx.multipartite_layout(G, subset_key=\"layer\")\n\ngraph = mc.graphplot(G, layout = pos, node_size=20, edge_size=4)\n# graph.show()\nHTML(graph.show(return_html=True, silent=True))"
      ]
    },
    {
      "cell_type": "markdown",
      "metadata": {},
      "source": [
        "Radar Plot\n\n"
      ]
    },
    {
      "cell_type": "code",
      "execution_count": null,
      "metadata": {
        "collapsed": false
      },
      "outputs": [],
      "source": [
        "x = ['ACC', 'AUC', 'F1', 'PRECISION', 'RECALL', 'ACC', 'AUC', 'F1', 'PRECISION', 'RECALL']\ny = [0.8, 0.7, 0.8, 0.7, 0.6, 0.7, 0.6, 0.6, 0.5, 0.9]\nlabel = ['Model1', 'Model1', 'Model1', 'Model1', 'Model1', 'Model2', 'Model2', 'Model2', 'Model2', 'Model2']\n\nradar = mc.radarplot(x=x, y=y, label=label)\nradar.set_tooltip()\nradar.set_legend()\nradar.set_grid(show=False)\n# radar.show()\nHTML(radar.show(return_html=True, silent=True))"
      ]
    },
    {
      "cell_type": "markdown",
      "metadata": {},
      "source": [
        "Parallel Plot\n\n"
      ]
    },
    {
      "cell_type": "code",
      "execution_count": null,
      "metadata": {
        "collapsed": false
      },
      "outputs": [],
      "source": [
        "data = [[0.8, 0.7, 0.8, 0.7, 0.6], [ 0.7, 0.6, 0.6, 0.5, 0.9]]\nlabel = ['Model1', 'Model2']\naxis_list = [\n            { 'dim': 0, 'name': 'ACC' },\n            { 'dim': 1, 'name': 'AUC' },\n            { 'dim': 2, 'name': 'F1' },\n            { 'dim': 3, 'name': 'PRECISION' },\n            { 'dim': 4, 'name': 'RECALL' }]\nparallel = mc.parallel(data=data, axis_list=axis_list, labels=label)\nparallel.set_grid(show=False)\nparallel.set_tooltip(formatter = '{b}')\n# parallel.show()\nHTML(parallel.show(return_html=True, silent=True))"
      ]
    }
  ],
  "metadata": {
    "kernelspec": {
      "display_name": "Python 3",
      "language": "python",
      "name": "python3"
    },
    "language_info": {
      "codemirror_mode": {
        "name": "ipython",
        "version": 3
      },
      "file_extension": ".py",
      "mimetype": "text/x-python",
      "name": "python",
      "nbconvert_exporter": "python",
      "pygments_lexer": "ipython3",
      "version": "3.11.0"
    }
  },
  "nbformat": 4,
  "nbformat_minor": 0
}