{
  "cells": [
    {
      "cell_type": "markdown",
      "metadata": {},
      "source": [
        "\n# Bar Plot\n"
      ]
    },
    {
      "cell_type": "markdown",
      "metadata": {},
      "source": [
        "Installation\n\n"
      ]
    },
    {
      "cell_type": "code",
      "execution_count": null,
      "metadata": {
        "collapsed": false
      },
      "outputs": [],
      "source": [
        "# To install the required package, use the following command:\n# !pip install mocharts"
      ]
    },
    {
      "cell_type": "markdown",
      "metadata": {},
      "source": [
        "Simple Bar\n\n"
      ]
    },
    {
      "cell_type": "code",
      "execution_count": null,
      "metadata": {
        "collapsed": false
      },
      "outputs": [],
      "source": [
        "import numpy as np\nimport mocharts as mc\nfrom IPython.display import HTML\n\nx = np.array(['Thur', 'Thur', 'Fri', 'Fri', 'Sat', 'Sat', 'Sun', 'Sun'])\ny = np.array([16, 15, 20, 21, 12, 14, 20, 22])\nlabel = np.array([0,1,0,1,0,1,0,1])\n\nbar = mc.barplot(x, y, label=label, color=['red','blue'])\nbar.set_legend()\nbar.set_figsize((8,4))\n# bar.show()\nHTML(bar.show(return_html=True, silent=True))"
      ]
    },
    {
      "cell_type": "markdown",
      "metadata": {},
      "source": [
        "Bar Plot with custom bar color\n\n"
      ]
    },
    {
      "cell_type": "code",
      "execution_count": null,
      "metadata": {
        "collapsed": false
      },
      "outputs": [],
      "source": [
        "x = np.array(['Thur',  'Fri', 'Sat',  'Sun', ])\ny = np.array([16, 15, 20, 21])\n\nbar = mc.barplot(x, y, bar_color=['red','blue','green','yellow',])\nbar.set_figsize((8,4))\n# bar.show()\nHTML(bar.show(return_html=True, silent=True))"
      ]
    },
    {
      "cell_type": "markdown",
      "metadata": {},
      "source": [
        "Horizontal Bar Plot\n\n"
      ]
    },
    {
      "cell_type": "code",
      "execution_count": null,
      "metadata": {
        "collapsed": false
      },
      "outputs": [],
      "source": [
        "x = np.array(['long string 1', 'long string 1', 'long string 2', 'long string 2',\n              'long string 3', 'long string 3', 'long string 4', 'long string 4'])\ny = np.array([16, 15, 20, 21, 12, 14, 20, 22])\nlabel = np.array([0,1,0,1,0,1,0,1])\n\nbar = mc.barplot(x, y, label=label, orient='horizontal')\nbar.set_legend()\nbar.set_figsize((8,4))\n# bar.show()\nHTML(bar.show(return_html=True, silent=True))"
      ]
    },
    {
      "cell_type": "markdown",
      "metadata": {},
      "source": [
        "Custom Bar Plot\n\n"
      ]
    },
    {
      "cell_type": "code",
      "execution_count": null,
      "metadata": {
        "collapsed": false
      },
      "outputs": [],
      "source": [
        "x = np.array(['Thur', 'Thur', 'Fri', 'Fri', 'Sat', 'Sat', 'Sun', 'Sun'])\ny = np.array([1625, 1535, 2202, 211, 1222, 1114, 2205, 2522])\nlabel = np.array([0,1,0,1,0,1,0,1])\n\nbar = mc.barplot(x, y, label=label, show_label='inside', multiple='stack', bar_width='60%')\n# bar.set_legend()\nbar.set_xaxis(axis_name='week')\nbar.set_yaxis(axis_name='count')\nbar.set_title('Bar Plot')\nbar.set_figsize((6,4))\n# bar.show()\nHTML(bar.show(return_html=True, silent=True))"
      ]
    }
  ],
  "metadata": {
    "kernelspec": {
      "display_name": "Python 3",
      "language": "python",
      "name": "python3"
    },
    "language_info": {
      "codemirror_mode": {
        "name": "ipython",
        "version": 3
      },
      "file_extension": ".py",
      "mimetype": "text/x-python",
      "name": "python",
      "nbconvert_exporter": "python",
      "pygments_lexer": "ipython3",
      "version": "3.11.0"
    }
  },
  "nbformat": 4,
  "nbformat_minor": 0
}