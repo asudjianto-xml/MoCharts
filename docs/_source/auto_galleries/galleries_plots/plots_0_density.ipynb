{
  "cells": [
    {
      "cell_type": "markdown",
      "metadata": {},
      "source": [
        "\n# Density Plot\n"
      ]
    },
    {
      "cell_type": "markdown",
      "metadata": {},
      "source": [
        "Installation\n\n"
      ]
    },
    {
      "cell_type": "code",
      "execution_count": null,
      "metadata": {
        "collapsed": false
      },
      "outputs": [],
      "source": [
        "# To install the required package, use the following command:\n# !pip install mocharts"
      ]
    },
    {
      "cell_type": "markdown",
      "metadata": {},
      "source": [
        "Simple Density\n\n"
      ]
    },
    {
      "cell_type": "code",
      "execution_count": null,
      "metadata": {
        "collapsed": false
      },
      "outputs": [],
      "source": [
        "from IPython.display import HTML\nimport mocharts as mc\nimport pandas as pd\npenguins = pd.read_csv('https://raw.githubusercontent.com/mwaskom/seaborn-data/master/penguins.csv')\npenguins=penguins.dropna()\nkde = mc.kdeplot(x=penguins[\"flipper_length_mm\"].values, color='red')\nkde.set_tooltip(precision=4)\n# kde.show()\nHTML(kde.show(return_html=True, silent=True))"
      ]
    },
    {
      "cell_type": "markdown",
      "metadata": {},
      "source": [
        "Ridge Plot\n\n"
      ]
    },
    {
      "cell_type": "code",
      "execution_count": null,
      "metadata": {
        "collapsed": false
      },
      "outputs": [],
      "source": [
        "kde = mc.ridgeplot(x=penguins[\"flipper_length_mm\"].values, label=penguins['species'].values)\n# kde.show()\nHTML(kde.show(return_html=True, silent=True))"
      ]
    },
    {
      "cell_type": "markdown",
      "metadata": {},
      "source": [
        "Custom Density Plot\n\n"
      ]
    },
    {
      "cell_type": "code",
      "execution_count": null,
      "metadata": {
        "collapsed": false
      },
      "outputs": [],
      "source": [
        "kde = mc.kdeplot(x=penguins[\"flipper_length_mm\"].values, label=penguins['species'].values, common_norm=True, fill_area=False,\n                color=['red','yellow','pink'])\nkde.set_tooltip(precision=4)\nkde.set_xaxis(axis_name='flipper_length_mm')\nkde.set_yaxis(axis_name='density')\nkde.set_title('Density')\nkde.set_legend()\n# kde.show()\nHTML(kde.show(return_html=True, silent=True))"
      ]
    },
    {
      "cell_type": "markdown",
      "metadata": {},
      "source": [
        "2D KDE Plot\n\n"
      ]
    },
    {
      "cell_type": "code",
      "execution_count": null,
      "metadata": {
        "collapsed": false
      },
      "outputs": [],
      "source": [
        "plot = mc.kde2Dplot(x=penguins[\"flipper_length_mm\"].values,\n                    y=penguins[\"bill_depth_mm\"].values, show_scatter=True,\n                    levels=8, bandwidth=1.2, threshold=0, color=['grey'])\nplot.set_tooltip(show=False)\nplot.set_title('kde2d')\nplot.set_xaxis(axis_name='flipper_length_mm')\nplot.set_yaxis(axis_name='bill_depth_mm')\n# plot.show()\nHTML(plot.show(return_html=True, silent=True))"
      ]
    }
  ],
  "metadata": {
    "kernelspec": {
      "display_name": "Python 3",
      "language": "python",
      "name": "python3"
    },
    "language_info": {
      "codemirror_mode": {
        "name": "ipython",
        "version": 3
      },
      "file_extension": ".py",
      "mimetype": "text/x-python",
      "name": "python",
      "nbconvert_exporter": "python",
      "pygments_lexer": "ipython3",
      "version": "3.11.0"
    }
  },
  "nbformat": 4,
  "nbformat_minor": 0
}