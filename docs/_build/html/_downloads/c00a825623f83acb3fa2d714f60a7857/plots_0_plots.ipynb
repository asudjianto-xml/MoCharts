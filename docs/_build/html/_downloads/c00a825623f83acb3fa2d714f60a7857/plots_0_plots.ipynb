{
  "cells": [
    {
      "cell_type": "markdown",
      "metadata": {},
      "source": [
        "\n# Basic Plots\n\nMocharts supports a variety of chart types. In this example, we will demonstrate some simple use cases for these charts. For more details, you can refer to the API documentation for each plot or explore the examples for each chart.\n"
      ]
    },
    {
      "cell_type": "markdown",
      "metadata": {},
      "source": [
        "Installation\n\n"
      ]
    },
    {
      "cell_type": "code",
      "execution_count": null,
      "metadata": {
        "collapsed": false
      },
      "outputs": [],
      "source": [
        "# To install the required package, use the following command:\n# !pip install mocharts"
      ]
    },
    {
      "cell_type": "markdown",
      "metadata": {},
      "source": [
        "Get Iris dataset\n\n"
      ]
    },
    {
      "cell_type": "code",
      "execution_count": null,
      "metadata": {
        "collapsed": false
      },
      "outputs": [],
      "source": [
        "from sklearn.datasets import load_iris\nimport numpy as np\nimport pandas as pd\nfrom IPython.display import HTML\ndata = load_iris()\ntarget = np.array([data['target_names'][int(i)] for i in data['target']]).reshape(-1,1)\ndf = pd.DataFrame(np.concatenate([data['data'], target.astype(object)], axis=1), columns=data['feature_names']+['Species'])\nfor feature in data['feature_names']:\n    df[feature] = df[feature].astype(float)"
      ]
    },
    {
      "cell_type": "markdown",
      "metadata": {},
      "source": [
        "Scatter Plot\n\n"
      ]
    },
    {
      "cell_type": "code",
      "execution_count": null,
      "metadata": {
        "collapsed": false
      },
      "outputs": [],
      "source": [
        "import mocharts as mc\nplot = mc.scatterplot(x=df['sepal length (cm)'].values, y=df['sepal width (cm)'].values, label=df['Species'].values,\n                      allow_large=False, sampling=True)\nplot.set_xaxis(axis_name='sepal length (cm)')\nplot.set_yaxis(axis_name='sepal width (cm)')\nplot.set_legend(title='Species', top='13%', left='86%')\nplot.set_title('Scatter Plot')\nplot.set_grid(right='15%')\nplot.set_figsize((6,6))\n# plot.show()\nHTML(plot.show(return_html=True, silent=True))"
      ]
    },
    {
      "cell_type": "markdown",
      "metadata": {},
      "source": [
        "Line Plot\n\n"
      ]
    },
    {
      "cell_type": "code",
      "execution_count": null,
      "metadata": {
        "collapsed": false
      },
      "outputs": [],
      "source": [
        "category = pd.qcut(df['sepal width (cm)'].astype(float), 8).astype(object)\ncategory.name = 'Sepal Width Range'\nnew_data = pd.concat([df, category], axis=1)\nmean_val = new_data.groupby('Sepal Width Range').mean(numeric_only=True).loc[:,'sepal length (cm)']\n\nline = mc.lineplot(x=list(mean_val.index.astype(str)), y=mean_val.values)\nline.set_tooltip(precision=4)\nline.set_xaxis(axis_name='Sepal Width Range', axisLabel_rotate=30, nameGap=50)\nline.set_yaxis(axis_name='Mean sepal length (cm)')\nline.set_title('Line Plot')\nline.set_figsize((6,6))\n# line.show()\nHTML(line.show(return_html=True, silent=True))"
      ]
    },
    {
      "cell_type": "markdown",
      "metadata": {},
      "source": [
        "Bar Plot\n\n"
      ]
    },
    {
      "cell_type": "code",
      "execution_count": null,
      "metadata": {
        "collapsed": false
      },
      "outputs": [],
      "source": [
        "mean_length = df.groupby('Species').mean().loc[:, 'sepal length (cm)']\n\nbar = mc.barplot(x=list(mean_length.index), y=np.round(mean_length.values,4), show_label='top')\nbar.set_xaxis(axis_name='Species')\nbar.set_yaxis(axis_name=\"Mean sepal length (cm)\")\nbar.set_title('Bar Plot')\nbar.set_tooltip(precision=4)\nbar.set_figsize((6,6))\n# bar.show()\nHTML(bar.show(return_html=True, silent=True))"
      ]
    },
    {
      "cell_type": "markdown",
      "metadata": {},
      "source": [
        "Box Plot\n\n"
      ]
    },
    {
      "cell_type": "code",
      "execution_count": null,
      "metadata": {
        "collapsed": false
      },
      "outputs": [],
      "source": [
        "box = mc.boxplot(x=df['Species'], y=df['sepal length (cm)'], orient='vertical')\nbox.set_xaxis(axis_name='Species')\nbox.set_yaxis(axis_name=\"sepal length (cm)\")\nbox.set_title('Box Plot')\nbox.set_tooltip(precision=4)\nbox.set_figsize((6,6))\n# box.show()\nHTML(box.show(return_html=True, silent=True))"
      ]
    },
    {
      "cell_type": "markdown",
      "metadata": {},
      "source": [
        "Histogram Plot\n\n"
      ]
    },
    {
      "cell_type": "code",
      "execution_count": null,
      "metadata": {
        "collapsed": false
      },
      "outputs": [],
      "source": [
        "hist = mc.histplot(x=df['sepal length (cm)'], label=df['Species'], bins=15)\nhist.set_xaxis(axis_name='sepal length (cm)')\nhist.set_yaxis(axis_name='Count')\nhist.set_legend()\nhist.set_title('Histogram Plot')\nhist.set_figsize((6,6))\n# hist.show()\nHTML(hist.show(return_html=True, silent=True))"
      ]
    },
    {
      "cell_type": "markdown",
      "metadata": {},
      "source": [
        "Density Plot\n\n"
      ]
    },
    {
      "cell_type": "code",
      "execution_count": null,
      "metadata": {
        "collapsed": false
      },
      "outputs": [],
      "source": [
        "kde = mc.kdeplot(x=df['sepal length (cm)'], label=df['Species'])\nkde.set_xaxis(axis_name='sepal length (cm)')\nkde.set_yaxis(axis_name='Density')\nkde.set_title('Density Plot')\nkde.set_legend()\nkde.set_tooltip(precision=4)\nkde.set_figsize((6,6))\n# kde.show()\nHTML(kde.show(return_html=True, silent=True))"
      ]
    },
    {
      "cell_type": "markdown",
      "metadata": {},
      "source": [
        "Heatmap Plot\n\n"
      ]
    },
    {
      "cell_type": "code",
      "execution_count": null,
      "metadata": {
        "collapsed": false
      },
      "outputs": [],
      "source": [
        "convert = {'setosa':0, 'versicolor':1, 'virginica':2}\nnew_data = df.Species.apply(lambda x: convert[x])\nnew_data = pd.concat([df.drop('Species', axis=1), new_data], axis=1)\ncorr = new_data.corr().round(4)\nheatmap = mc.heatmap(corr.values, row_names=list(corr.columns), col_names=list(corr.columns), show_label=True)\nheatmap.set_xaxis(axisLabel_rotate=30)\nheatmap.set_tooltip()\nheatmap.set_title('Correlation Heatmap', left='55%')\nheatmap.set_figsize((6,6))\nheatmap.set_visualmap(calculable=True, width=15, height=520)\n# heatmap.show()\nHTML(heatmap.show(return_html=True, silent=True))"
      ]
    }
  ],
  "metadata": {
    "kernelspec": {
      "display_name": "Python 3",
      "language": "python",
      "name": "python3"
    },
    "language_info": {
      "codemirror_mode": {
        "name": "ipython",
        "version": 3
      },
      "file_extension": ".py",
      "mimetype": "text/x-python",
      "name": "python",
      "nbconvert_exporter": "python",
      "pygments_lexer": "ipython3",
      "version": "3.11.0"
    }
  },
  "nbformat": 4,
  "nbformat_minor": 0
}