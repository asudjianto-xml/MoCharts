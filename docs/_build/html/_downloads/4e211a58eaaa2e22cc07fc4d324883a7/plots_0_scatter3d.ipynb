{
  "cells": [
    {
      "cell_type": "markdown",
      "metadata": {},
      "source": [
        "\n# 3D Scatter Plot\n"
      ]
    },
    {
      "cell_type": "markdown",
      "metadata": {},
      "source": [
        "Installation\n\n"
      ]
    },
    {
      "cell_type": "code",
      "execution_count": null,
      "metadata": {
        "collapsed": false
      },
      "outputs": [],
      "source": [
        "# To install the required package, use the following command:\n# !pip install mocharts"
      ]
    },
    {
      "cell_type": "markdown",
      "metadata": {},
      "source": [
        "Simple 3D Scatter\n\n"
      ]
    },
    {
      "cell_type": "code",
      "execution_count": null,
      "metadata": {
        "collapsed": false
      },
      "outputs": [],
      "source": [
        "import mocharts as mc\nfrom sklearn.datasets import load_iris\nfrom IPython.display import HTML\n\niris = load_iris()\nX = iris.data\ny = iris.target\n\nfig = mc.scatter3Dplot(x=X[:,0], y=X[:,1], z=X[:,2], color='orange')\nfig.set_figsize((6,6))\n# fig.show()\nHTML(fig.show(return_html=True, silent=True))"
      ]
    },
    {
      "cell_type": "markdown",
      "metadata": {},
      "source": [
        "Custom 3D Scatter Plot\n\n"
      ]
    },
    {
      "cell_type": "code",
      "execution_count": null,
      "metadata": {
        "collapsed": false
      },
      "outputs": [],
      "source": [
        "fig = mc.scatter3Dplot(x=X[:,0], y=X[:,1], z=X[:,2], label=y, symbol_size=15, show_label=True,\n                       label_distance_ratio=2., symbol='arrow', label_order=[2,1,0], color=['yellow','purple','pink'])\n\nfig.set_title('3D Scatter')\nfig.set_legend()\nfig.set_xaxis(axis_name=iris.feature_names[0])\nfig.set_yaxis(axis_name=iris.feature_names[1])\nfig.set_zaxis(axis_name=iris.feature_names[2])\nfig.set_grid(alpha=20, beta=20, distance=200)\nfig.set_figsize((5,5))\n# fig.show()\nHTML(fig.show(return_html=True, silent=True))"
      ]
    }
  ],
  "metadata": {
    "kernelspec": {
      "display_name": "Python 3",
      "language": "python",
      "name": "python3"
    },
    "language_info": {
      "codemirror_mode": {
        "name": "ipython",
        "version": 3
      },
      "file_extension": ".py",
      "mimetype": "text/x-python",
      "name": "python",
      "nbconvert_exporter": "python",
      "pygments_lexer": "ipython3",
      "version": "3.11.0"
    }
  },
  "nbformat": 4,
  "nbformat_minor": 0
}