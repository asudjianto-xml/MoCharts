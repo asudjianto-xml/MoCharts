{
  "cells": [
    {
      "cell_type": "markdown",
      "metadata": {},
      "source": [
        "\n# Container\n\nMocharts supports various layout options for displaying multiple plots. In this example, we will demonstrate how to display a single plot, how to combine multiple plots into a single figure, and how to manage multiple plots using the SubPlots object.\n"
      ]
    },
    {
      "cell_type": "markdown",
      "metadata": {},
      "source": [
        "Installation\n\n"
      ]
    },
    {
      "cell_type": "code",
      "execution_count": null,
      "metadata": {
        "collapsed": false
      },
      "outputs": [],
      "source": [
        "# To install the required package, use the following command:\n# !pip install mocharts"
      ]
    },
    {
      "cell_type": "markdown",
      "metadata": {},
      "source": [
        "Figure (Single Plot)\n\n"
      ]
    },
    {
      "cell_type": "code",
      "execution_count": null,
      "metadata": {
        "collapsed": false
      },
      "outputs": [],
      "source": [
        "from IPython.display import HTML\nimport mocharts as mc\nfrom sklearn.datasets import make_circles\n\npos,label = make_circles(n_samples=100, shuffle=True, noise=None, random_state=None, factor=0.8)\nx,y = pos[:,0], pos[:,1]\n\nfig = mc.Figure()\nplot = mc.scatterplot(x=x, y=y, label=label)\nfig.add(plot)\n# fig.show()\nHTML(fig.show(return_html=True, silent=True))"
      ]
    },
    {
      "cell_type": "markdown",
      "metadata": {},
      "source": [
        "Figure (Multiple Plots)\n\n"
      ]
    },
    {
      "cell_type": "code",
      "execution_count": null,
      "metadata": {
        "collapsed": false
      },
      "outputs": [],
      "source": [
        "fig = mc.Figure()\n\nscatter = mc.scatterplot(x=x, y=y)\nfig.add(scatter)\n\nline = mc.lineplot([-1,1], [-1,1])\nfig.add(line)\nfig.set_title('Combine Plot')\n\n# fig.show()\nHTML(fig.show(return_html=True, silent=True))"
      ]
    },
    {
      "cell_type": "markdown",
      "metadata": {},
      "source": [
        "SubPlots\n\n"
      ]
    },
    {
      "cell_type": "code",
      "execution_count": null,
      "metadata": {
        "collapsed": false
      },
      "outputs": [],
      "source": [
        "scatter = mc.scatterplot(x=x, y=y)\nline = mc.lineplot([-1,1], [-1,1])\nline.set_title('Line')\nscatter.set_title('Scatter')\nsub = mc.SubPlots([scatter, line], subplots_grid=[10,1], subplots_position=[[[0,5],[0,1]],[[6,10],[0,1]]])\n\n# sub.show()\nHTML(sub.show(return_html=True, silent=True))"
      ]
    }
  ],
  "metadata": {
    "kernelspec": {
      "display_name": "Python 3",
      "language": "python",
      "name": "python3"
    },
    "language_info": {
      "codemirror_mode": {
        "name": "ipython",
        "version": 3
      },
      "file_extension": ".py",
      "mimetype": "text/x-python",
      "name": "python",
      "nbconvert_exporter": "python",
      "pygments_lexer": "ipython3",
      "version": "3.11.0"
    }
  },
  "nbformat": 4,
  "nbformat_minor": 0
}