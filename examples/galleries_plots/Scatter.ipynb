{
  "cells": [
    {
      "cell_type": "markdown",
      "metadata": {},
      "source": [
        "\n# Scatter Plot\n"
      ]
    },
    {
      "cell_type": "markdown",
      "metadata": {},
      "source": [
        "Installation\n\n"
      ]
    },
    {
      "cell_type": "code",
      "execution_count": null,
      "metadata": {
        "collapsed": false
      },
      "outputs": [],
      "source": [
        "# To install the required package, use the following command:\n# !pip install mocharts"
      ]
    },
    {
      "cell_type": "markdown",
      "metadata": {},
      "source": [
        "Simple Scatter\n\n"
      ]
    },
    {
      "cell_type": "code",
      "execution_count": null,
      "metadata": {
        "collapsed": false
      },
      "outputs": [],
      "source": [
        "from IPython.display import HTML\nimport mocharts as mc\nfrom sklearn.datasets import make_circles\npos,label = make_circles(n_samples=100, shuffle=True, noise=None, random_state=None, factor=0.8)\nx,y = pos[:,0], pos[:,1]\n\nplot = mc.scatterplot(x=x, y=y, color='orange')\n# plot.show()\nHTML(plot.show(return_html=True, silent=True))"
      ]
    },
    {
      "cell_type": "markdown",
      "metadata": {},
      "source": [
        "Custom Scatter Plot\n\n"
      ]
    },
    {
      "cell_type": "code",
      "execution_count": null,
      "metadata": {
        "collapsed": false
      },
      "outputs": [],
      "source": [
        "from sklearn.datasets import make_moons\nX, y = make_moons(n_samples=400, noise=0.1, random_state=42)\n\nplot = mc.scatterplot(x=X[:,0], y=X[:,1], label=y, symbol_size=15, show_label='serie', smoother_order=3, color=['orange','green'])\nplot.set_legend()\nplot.set_title('Moons')\nplot.set_xaxis(axis_name='X')\nplot.set_yaxis(axis_name='Y')\n# plot.show()\nHTML(plot.show(return_html=True, silent=True))"
      ]
    }
  ],
  "metadata": {
    "kernelspec": {
      "display_name": "Python 3",
      "language": "python",
      "name": "python3"
    },
    "language_info": {
      "codemirror_mode": {
        "name": "ipython",
        "version": 3
      },
      "file_extension": ".py",
      "mimetype": "text/x-python",
      "name": "python",
      "nbconvert_exporter": "python",
      "pygments_lexer": "ipython3",
      "version": "3.11.0"
    }
  },
  "nbformat": 4,
  "nbformat_minor": 0
}